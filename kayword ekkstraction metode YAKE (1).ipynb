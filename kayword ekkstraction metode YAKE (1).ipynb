{
 "cells": [
  {
   "cell_type": "markdown",
   "id": "80038f36",
   "metadata": {},
   "source": [
    "<center><h3> UAS DATA MAINING </h3></center>\n",
    "<hr>\n",
    "<h5> Nama : Muhammad Ainul Wahib<br>\n",
    "    NIM : 32602000003<br>\n",
    "    </h5>\n",
    "    <p><center>KAYWORD EKSTRACTION METODE YAKE</center></p>"
   ]
  },
  {
   "cell_type": "code",
   "execution_count": 1,
   "id": "f75bff2b",
   "metadata": {},
   "outputs": [],
   "source": [
    "# pastikan sudah memiliki libary Pandas, re dan Yake \n",
    "# jika belum hilangkan tanda pagar kode dibawah ini\n",
    "#!pip install pandas\n",
    "#!pip install yake"
   ]
  },
  {
   "cell_type": "code",
   "execution_count": 2,
   "id": "9999b232",
   "metadata": {},
   "outputs": [],
   "source": [
    "import pandas as pd\n",
    "import re\n",
    "from yake import KeywordExtractor\n"
   ]
  },
  {
   "cell_type": "code",
   "execution_count": 3,
   "id": "1f08cdb4",
   "metadata": {},
   "outputs": [],
   "source": [
    "# Membaca file Excel\n",
    "# pastikan alamat path diisi dengan bener sesuai dimana anda menyimpan data\n",
    "data = pd.read_csv(r'C:\\Users\\AinXD\\Documents\\dataset\\dataskripsi.csv')\n"
   ]
  },
  {
   "cell_type": "code",
   "execution_count": 4,
   "id": "b9c7d91b",
   "metadata": {},
   "outputs": [],
   "source": [
    "# pre procesing\n",
    "#pre procesing ini say lakukan agar data manjadi lebih mudah dipahami oleh mesin\n",
    "# pre prosesing yang saya lakukan antara lain menghapus angka, menghapus karakter khusus\n",
    "# mengubah text menjadi huruf kecil kemudian menghilangkan stop woord inggris maupun indonesia\n",
    "\n",
    "def preprocess_text(text):\n",
    "    if isinstance(text, str):\n",
    "        \n",
    "# Menghapus angka\n",
    "        text = re.sub(r'\\d+', '', text)  \n",
    "    \n",
    "# Menghapus karakter khusus\n",
    "        text = re.sub(r'[^\\w\\s]', '', text)\n",
    "    \n",
    "# Mengubah teks menjadi lowercase\n",
    "        text = text.lower() \n",
    "    return text\n",
    "for key in data:\n",
    "    data[key] = data[key].apply(preprocess_text)\n"
   ]
  },
  {
   "cell_type": "code",
   "execution_count": 5,
   "id": "f4e714fd",
   "metadata": {},
   "outputs": [],
   "source": [
    "# Menghapus stopwords dalam bahasa Indonesia dan Inggris\n",
    "def remove_stopwords(text):\n",
    "    stopwords_ind = set(stopwords.words('indonesian'))\n",
    "    stopwords_eng = set(stopwords.words('english'))\n",
    "    stopwords_all = stopwords_ind.union(stopwords_eng)\n",
    "    \n",
    "    words = text.split()\n",
    "    filtered_words = [word for word in words if word not in stopwords_all]\n",
    "    filtered_text = ' '.join(filtered_words)\n",
    "    \n",
    "    return filtered_text"
   ]
  },
  {
   "cell_type": "code",
   "execution_count": 6,
   "id": "85ce1ea9",
   "metadata": {},
   "outputs": [],
   "source": [
    "# Mendapatkan kolom judul dan abstrak \n",
    "#berfungsi untuk mengubah/conversi semua data menjadi bentuk string\n",
    "judul = data['JUDUL'].astype(str)\n",
    "abstrak = data['ABSTRAK'].astype(str)\n"
   ]
  },
  {
   "cell_type": "code",
   "execution_count": 7,
   "id": "c5712c32",
   "metadata": {},
   "outputs": [],
   "source": [
    "# Menginisialisasi fungsi KeywordExtractor pada metode yake\n",
    "extractor = KeywordExtractor()\n"
   ]
  },
  {
   "cell_type": "code",
   "execution_count": 8,
   "id": "267a31a4",
   "metadata": {},
   "outputs": [],
   "source": [
    "# Membuat fungsi untuk mendapatkan 3 keyword teratas dari teks\n",
    "def get_top_keywords(text):\n",
    "    extracted_keywords = extractor.extract_keywords(text)\n",
    "    top_keywords = [keyword.split()[:2] for keyword, score in extracted_keywords[:3]]\n",
    "    return top_keywords"
   ]
  },
  {
   "cell_type": "code",
   "execution_count": 9,
   "id": "01c1b4b4",
   "metadata": {},
   "outputs": [
    {
     "name": "stdout",
     "output_type": "stream",
     "text": [
      "Judul: sistem informasi pengajuan judul skripsi mahasiswa program studi teknik informatika studi kasus fakultas teknik universitas ibnu sina\n",
      "Abstrak: skripsi adalah istilah yang digunakan di indonesia untuk mengilustrasikan suatu karya tulis ilmiah  yang  berupa  paparan  tulisan  hasil  penelitianmembahas  suatu  permasalahan  dalam bidang ilmu tertentu dengan menggunakan kaidahkaidah yang berlaku program studi teknik informatika universitas ibnu sina masih belum efektif dan efisien dalam hal pelayanan kampus untuk  mahasiswa tingkat  akhir  terutama  pada  saat  pengajuan  judul  tugas  akhir  karena  masih menggunakan  cara  manual  penulis  menggunakan  bahasa  pemrograman  php  dan  database mysql  yang  bertujuan  untuk  membangun  sistem  informasi pengajuan judul tugas  akhir  yang  diharapkan  dapat  mendukung  dan  memudahkan  proses  pengajuan  judul  tugas  akhir  dan dengan  mudah  mendapatkan  informasi  tentang  pelayanan  kampus  terutama  saat  pengajuan tugas akhir di universitas ibnu sina\n",
      "Keywords: ['pengajuan judul', 'judul tugas', 'universitas ibnu']\n",
      "\n",
      "Judul: sistem informasi prediksi kelulusan menggunakan metode naive bayes classifer\n",
      "Abstrak: prediksi prediction adalah kegiatan memprediksi apa yang akan terjadi di masa yang akan datang karena masalah pengambilan keputusan adalah masalah yang harus dihadapi demikian juga peramalan karena prediksi sangat erat kaitannya dengan pengambilan keputusan prediksi kelulusan mahasiswa merupakan upaya untuk membantu mahasiswa mengetahui status kelulusannya metode yang digunakan yaitu metode prototyping merupakan salah satu metode pengembangan perangkat lunak yang menggunakan pendekatan untuk membuat rancangan dengan cepat dan bertahap sehingga dapat segera dievaluasi oleh calon pengguna  klien aplikasi prediksi mahasiswa ini diuji menggunakan data mahasiswa pti angkatan  dan  sebagai data training berjumlah  data dan data mahasiswa angkatan  sebagai data testing berjumlah  data pada aplikasi ini klasifikasi naïve bayes classifier digunakan untuk melakukan klasifikasi data berdasarkan hasil studi  semester dan total sks hasil klasifikasi dari aplikasi ini menyatakan bahwa dari  data testing memperoleh hasil accuracy  precision  recall  aplikasi ini dapat membantu memprediksi hasil kelulusan mahasiswa tepat waktu atau tidak tepat waktu berdasarkan hasil studi \n",
      "Keywords: ['berdasarkan hasil', 'tepat waktu', 'naive bayes']\n",
      "\n",
      "Judul: sistem pendukung keputusan kelayakan judul skripsi dengan metode analytical hierarchy proses ahp\n",
      "Abstrak: skripsi adalah sebuah tugas akhir yang harus di buat oleh mahasiswa khususnya mahasiswa kampus universitas gajah putih dan tepatnya mahasiswa fakultas teknik informatika untuk menyelesaikan sebuah skripsi dibutuhkan waktu tenaga dan uang dalam pengajuan judul skripsi tersebut mahasiswa dituntut untuk lebih kreatif guna skripsi yang dihasilkan mahasiswa tersebut  dapat  menjadi  referensi  dikemudian  hari  sistem  pendukung  keputusan  yang  menggunakan  metode  analytical hierarchi process ahp dapat membantu staff yang ada di bagian akademik fakultas teknik spk yang diintegrasikan dengan metode ahp tersebut  akan membandingkan beberapa judul skripsi yang diajukan oleh mahasiswa berdasarkan kriteria yang ditentukan agar tidak terjadi proses ulang terhadap pengajuan judul skripsi hasil yang didapat dengan menggunakan spk metode  ahp  akan  mengerucut  kepada  sebuah  judul  yang  layak  dilanjutkan  ketahap  selanjutnya  dan  tentunya  sangat bermanfaat terhadap pengguna sistem pendukung keputusan\n",
      "Keywords: ['sistem pendukung', 'pengajuan judul', 'pendukung keputusan']\n",
      "\n",
      "Judul: penerapan sistem informasi layanan posyandu guna mendukung pelaporan data perkembangan bayi dan balita\n",
      "Abstrak: penelitian ini bertujuan untuk membangun sistem informasi yang mampu mengolah data bayibalita pada posyandu beringin vi pada saat ini belum tersedia sistem yang terkomputerisasi sehingga proses yang ada sekarang ini masih dilakukan dengan cara sederhana seperti penginputan data register pencarian data arsip dan penyimpanan data didalam paperbase yang sering terjadi kehilangan data dan juga dalam pencarian data arsip kader posyandu harus mencari satu persatu dari arsip posyandu maka peneliti ingin membangun sistem informasi posyandu yang mampu menangani proses tersebut dengan menggunakan metode rad dengan adanya sistem yang dibangun ini proses penginputan pencarian dan penyimpanan data bayibalita dapat menjadi lebih mudah data yang tersimpan menjadi aman serta pencarian data arsip tidak membutuhkan waktu yang lama dimana kader posyandu hanya perlu mengetik keyword pencarian didalam form pencarian hasil dari penelitian ini dimaksudkan mampu membangun sistem informasi posyandu sehingga dapat membantu pekerjaan kader posyandu pada posyandu beringin vi agar menjadi mudah dan waktu yang digunakan juga menjadi lebih cepat kesimpulan penelitian ini direkomendasikan tujuan pokok penggunaan sistem informasi posyandu adalah untuk mempermudah kader posyandu beringin vi dalam menginput mencari dan menyimpan data bayi balita sehingga data yang dihasilkan menjadi lebih efisien\n",
      "Keywords: ['membangun sistem', 'sistem informasi', 'pada posyandu']\n",
      "\n",
      "Judul: implementasi algoritma caesar cipher dan steganografi least significant bit untuk file dokumen\n",
      "Abstrak: keamanan dan kerahasiaan suatu file merupakan aspek penting karena pemilik file tidak ingin datanya diketahui oleh pihak yang tidak bertanggung jawab untuk menjaga kerahasiaan dan keamanan file ada teknik yang disebut algoritma kriptografi dan algoritma steganografi algoritma kriptografi adalah cara untuk mengubah isi file menjadi tidak dapat dipahami sedangkan algoritma steganografi adalah cara menyisipkan file yang ingin dirahasiakan dengan jenis file lain seperti gambar suara atau video salah satu jenis kriptografi adalah caesar cipher dan steganografi adalah least significant bit lsb caesar cipher adalah cara pengamanan dan kerahasiaan isi suatu file dengan cara menggeser huruf sedangkan least significant bit lsb adalah cara penyisipan dengan mengganti bit paling kanan atau paling belakang penelitian ini menggunakan pengembangan perangkat lunak secara waterfall dengan tahapan yang terdiri dari analisis kebutuhan perancangan sistem implementasi dan pengujian kode program ditulis dalam bahasa java dan menggunakan aplikasi netbeans  hasil dari penelitian adalah dengan  bahan penelitian  file dokumen doc dan  file gambar png hanya  file dari setiap bahan penelitian yang dapat diolah oleh software ini pengujian yang dilakukan meliputi pengujian fungsi dan kriteria steganografi seperti fidelity recoverable dan robustness\n",
      "Keywords: ['significant bit', 'caesar cipher', 'cipher dan']\n",
      "\n",
      "Judul: nan\n",
      "Abstrak:  \n",
      "Keywords: []\n",
      "\n"
     ]
    }
   ],
   "source": [
    "# Menampilkan judul, abstrak, dan 2 kata dari keyword teratas\n",
    "for i in range(len(judul)):\n",
    "    print(\"Judul:\", judul[i])\n",
    "    print(\"Abstrak:\", abstrak[i])\n",
    "    text = abstrak[i] + ' ' + judul[i]\n",
    "    keywords = get_top_keywords(text)\n",
    "    combined_keywords = [' '.join(keyword) for keyword in keywords]\n",
    "    print(\"Keywords:\", combined_keywords)\n",
    "    print()"
   ]
  },
  {
   "cell_type": "code",
   "execution_count": null,
   "id": "bfe13356",
   "metadata": {},
   "outputs": [],
   "source": []
  }
 ],
 "metadata": {
  "kernelspec": {
   "display_name": "Python 3 (ipykernel)",
   "language": "python",
   "name": "python3"
  },
  "language_info": {
   "codemirror_mode": {
    "name": "ipython",
    "version": 3
   },
   "file_extension": ".py",
   "mimetype": "text/x-python",
   "name": "python",
   "nbconvert_exporter": "python",
   "pygments_lexer": "ipython3",
   "version": "3.7.6"
  }
 },
 "nbformat": 4,
 "nbformat_minor": 5
}
